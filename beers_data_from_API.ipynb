{
 "cells": [
  {
   "cell_type": "code",
   "execution_count": 1,
   "id": "21bb4c82-4ca4-45bd-a7b0-0df62844d15c",
   "metadata": {},
   "outputs": [],
   "source": [
    "from typing import Iterator, Dict, Any\n",
    "from urllib.parse import urlencode\n",
    "import requests"
   ]
  },
  {
   "cell_type": "code",
   "execution_count": 2,
   "id": "2efbae7e-5513-46b1-8a4e-0541a60bdd8b",
   "metadata": {},
   "outputs": [],
   "source": [
    "# a public API: https://punkapi.com/documentation/v2\n",
    "#page = 1\n",
    "#page_size = 5\n",
    "#'https://api.punkapi.com/v2/beers?' + urlencode({'page': page, 'per_page': page_size})"
   ]
  },
  {
   "cell_type": "code",
   "execution_count": 3,
   "id": "4efb3a7a-e7fe-460a-8354-03ec1c0a5cb2",
   "metadata": {},
   "outputs": [],
   "source": [
    "# yield keyword is used to create a generator function. A type of function that is memory efficient and can be used like an iterator object.\n",
    "# define a generator-function\n",
    "# a generator function returns an generator object that is iterable (can be used as an iterator).\n",
    "def iter_beers_from_api(page_size: int = 5) -> Iterator[Dict[str, Any]]:\n",
    "    session = requests.Session()\n",
    "    page = 1\n",
    "    while True:\n",
    "        response = session.get('https://api.punkapi.com/v2/beers?' + urlencode({\n",
    "            'page': page,\n",
    "            'per_page': page_size\n",
    "        }))\n",
    "        response.raise_for_status()\n",
    "\n",
    "        data = response.json()\n",
    "        if not data:\n",
    "            break\n",
    "\n",
    "        yield from data\n",
    "\n",
    "        page += 1"
   ]
  },
  {
   "cell_type": "code",
   "execution_count": 4,
   "id": "024854fd-3adb-4532-ba5f-46e89ea67244",
   "metadata": {},
   "outputs": [
    {
     "data": {
      "text/plain": [
       "<generator object iter_beers_from_api at 0x0000024DF5D544A0>"
      ]
     },
     "execution_count": 4,
     "metadata": {},
     "output_type": "execute_result"
    }
   ],
   "source": [
    "iter_beers_from_api()"
   ]
  },
  {
   "cell_type": "code",
   "execution_count": 5,
   "id": "d724a1de-5396-48fb-9e98-8a3205ae675b",
   "metadata": {},
   "outputs": [],
   "source": [
    "beers = list(iter_beers_from_api())*100"
   ]
  },
  {
   "cell_type": "code",
   "execution_count": 10,
   "id": "b9d1d037-fd6b-42d2-bee8-5de99e2b92b8",
   "metadata": {},
   "outputs": [
    {
     "data": {
      "text/plain": [
       "32500"
      ]
     },
     "execution_count": 10,
     "metadata": {},
     "output_type": "execute_result"
    }
   ],
   "source": [
    "len(beers)"
   ]
  },
  {
   "cell_type": "code",
   "execution_count": 9,
   "id": "871941e8-61c1-4939-9f0f-ff901968c06a",
   "metadata": {},
   "outputs": [],
   "source": [
    "import json\n",
    "with open(\"beers.json\", \"w\") as outfile:\n",
    "    json.dump(beers, outfile)"
   ]
  },
  {
   "cell_type": "code",
   "execution_count": null,
   "id": "f57a2f2e-3bce-436b-9147-f992854db38c",
   "metadata": {},
   "outputs": [],
   "source": []
  }
 ],
 "metadata": {
  "kernelspec": {
   "display_name": "Python 3 (ipykernel)",
   "language": "python",
   "name": "python3"
  },
  "language_info": {
   "codemirror_mode": {
    "name": "ipython",
    "version": 3
   },
   "file_extension": ".py",
   "mimetype": "text/x-python",
   "name": "python",
   "nbconvert_exporter": "python",
   "pygments_lexer": "ipython3",
   "version": "3.9.13"
  }
 },
 "nbformat": 4,
 "nbformat_minor": 5
}

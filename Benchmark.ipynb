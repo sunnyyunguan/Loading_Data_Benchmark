{
 "cells": [
  {
   "cell_type": "code",
   "execution_count": 30,
   "id": "f7763308-2a64-444a-a7fb-748fdf96da4a",
   "metadata": {},
   "outputs": [],
   "source": [
    "import json\n",
    "import psycopg2\n",
    "import datetime\n",
    "from typing import Iterator, Dict, Any, Optional"
   ]
  },
  {
   "cell_type": "code",
   "execution_count": 5,
   "id": "9c94fa50-ae79-4973-8d92-f7ece94a3eb8",
   "metadata": {},
   "outputs": [],
   "source": [
    "def create_staging_table(cursor) -> None:\n",
    "    cursor.execute(\"\"\"\n",
    "        DROP TABLE IF EXISTS staging_beers;\n",
    "        CREATE UNLOGGED TABLE staging_beers (\n",
    "            id                  INTEGER,\n",
    "            name                TEXT,\n",
    "            tagline             TEXT,\n",
    "            first_brewed        DATE,\n",
    "            description         TEXT,\n",
    "            image_url           TEXT,\n",
    "            abv                 DECIMAL,\n",
    "            ibu                 DECIMAL,\n",
    "            target_fg           DECIMAL,\n",
    "            target_og           DECIMAL,\n",
    "            ebc                 DECIMAL,\n",
    "            srm                 DECIMAL,\n",
    "            ph                  DECIMAL,\n",
    "            attenuation_level   DECIMAL,\n",
    "            brewers_tips        TEXT,\n",
    "            contributed_by      TEXT,\n",
    "            volume              INTEGER\n",
    "        );\n",
    "    \"\"\")"
   ]
  },
  {
   "cell_type": "code",
   "execution_count": 9,
   "id": "db64d870-f9f8-4995-9126-6f677a710dce",
   "metadata": {},
   "outputs": [
    {
     "name": "stdout",
     "output_type": "stream",
     "text": [
      "<class 'list'>\n"
     ]
    },
    {
     "data": {
      "text/plain": [
       "32500"
      ]
     },
     "execution_count": 9,
     "metadata": {},
     "output_type": "execute_result"
    }
   ],
   "source": [
    "# read in data. beers.json is about 65MB\n",
    "with open('beers.json', 'r') as openfile:\n",
    "    beers_object = json.load(openfile)\n",
    " \n",
    "print(type(beers_object))\n",
    "len(beers_object)"
   ]
  },
  {
   "cell_type": "code",
   "execution_count": 13,
   "id": "896236bb-e175-4e66-a021-cd35d0b9b136",
   "metadata": {},
   "outputs": [],
   "source": [
    "# transform text value to date\n",
    "def parse_first_brewed(text: str) -> datetime.date:\n",
    "    parts = text.split('/')\n",
    "    if len(parts) == 2:\n",
    "        return datetime.date(int(parts[1]), int(parts[0]), 1)\n",
    "    elif len(parts) == 1:\n",
    "        return datetime.date(int(parts[0]), 1, 1)\n",
    "    else:\n",
    "        assert False, 'Unknown date format'"
   ]
  },
  {
   "cell_type": "code",
   "execution_count": 41,
   "id": "4cc1752d-ac07-4b84-ae07-b1bf89de012e",
   "metadata": {},
   "outputs": [],
   "source": [
    "# profile decorator function measuring and reporting time and memory\n",
    "# this decorator will print the function name and any keyword arguments, and report the time and memory used.\n",
    "import time\n",
    "from functools import wraps\n",
    "from memory_profiler import memory_usage\n",
    "\n",
    "def profile(fn):\n",
    "    @wraps(fn)\n",
    "    def inner(*args, **kwargs):\n",
    "        fn_kwargs_str = ', '.join(f'{k}={v}' for k, v in kwargs.items())\n",
    "        print(f'\\n{fn.__name__}({fn_kwargs_str})')\n",
    "\n",
    "        # Measure time\n",
    "        t = time.perf_counter()\n",
    "        retval = fn(*args, **kwargs)\n",
    "        elapsed = time.perf_counter() - t\n",
    "        print(f'Elapsed Time {elapsed:0.4}')\n",
    "\n",
    "        # Measure memory\n",
    "        mem, retval = memory_usage((fn, args, kwargs), retval=True, timeout=200, interval=1e-7)\n",
    "        print(f'Peak Memory {max(mem) - min(mem)}')\n",
    "        return retval\n",
    "\n",
    "    return inner"
   ]
  },
  {
   "cell_type": "code",
   "execution_count": null,
   "id": "3c98169c-6845-4ec2-87c6-a0e6912b7c66",
   "metadata": {},
   "outputs": [],
   "source": [
    "connection = psycopg2.connect(\n",
    "    host=\"localhost\",\n",
    "    database=\"testload\",\n",
    "    user=\"xxxx\",\n",
    "    password=\"xxxxxx\")\n",
    "\n",
    "connection.autocommit = True\n",
    "#with connection.cursor() as cursor:\n",
    "#    create_staging_table(cursor)"
   ]
  },
  {
   "cell_type": "markdown",
   "id": "f5ecbb8b-6809-490d-9096-5ec6394161e1",
   "metadata": {},
   "source": [
<<<<<<< HEAD
    "# Insert record one by one. It's going to time consuming for sure."
=======
    "# insert record one by one. It's going to time consuming for sure."
>>>>>>> c3d316e209d8a33ad2410bb90481fb2625d54eac
   ]
  },
  {
   "cell_type": "code",
   "execution_count": 46,
   "id": "8e42e4ac-cee9-478a-b769-3f5013aa8cae",
   "metadata": {},
   "outputs": [],
   "source": [
    "@profile\n",
    "def insert_one_by_one(connection, beers: Iterator[Dict[str, Any]]) -> None:\n",
    "    with connection.cursor() as cursor:\n",
    "        #create_staging_table(cursor) -- use existing table\n",
    "        for beer in beers:\n",
    "            cursor.execute(\"\"\"\n",
    "                INSERT INTO staging_beers VALUES (\n",
    "                    %(id)s,\n",
    "                    %(name)s,\n",
    "                    %(tagline)s,\n",
    "                    %(first_brewed)s,\n",
    "                    %(description)s,\n",
    "                    %(image_url)s,\n",
    "                    %(abv)s,\n",
    "                    %(ibu)s,\n",
    "                    %(target_fg)s,\n",
    "                    %(target_og)s,\n",
    "                    %(ebc)s,\n",
    "                    %(srm)s,\n",
    "                    %(ph)s,\n",
    "                    %(attenuation_level)s,\n",
    "                    %(brewers_tips)s,\n",
    "                    %(contributed_by)s,\n",
    "                    %(volume)s\n",
    "                );\n",
    "            \"\"\", {\n",
    "                **beer,\n",
    "                'first_brewed': parse_first_brewed(beer['first_brewed']),\n",
    "                'volume': beer['volume']['value'],\n",
    "            })"
   ]
  },
  {
   "cell_type": "code",
   "execution_count": 47,
   "id": "a8c475bc-3b6d-4bd1-b445-8ce65c164613",
   "metadata": {},
   "outputs": [
    {
     "name": "stdout",
     "output_type": "stream",
     "text": [
      "\n",
      "insert_one_by_one()\n",
      "Time   7.505\n",
      "Memory 0.53515625\n"
     ]
    }
   ],
   "source": [
    "insert_one_by_one(connection, beers_object)"
   ]
  },
  {
   "cell_type": "markdown",
   "id": "64064819-60de-42e3-a18c-4e3d6ffffe07",
   "metadata": {},
   "source": [
    "# Execute Many From Iterator"
   ]
  },
  {
   "cell_type": "markdown",
   "id": "205cb58d-21ef-4dca-b828-6e191c0c6e5a",
   "metadata": {},
   "source": [
    "use executemany directly would require get all data into the memory, then load to the table. It consumes memory.\n",
    "Try to use an iterator to avoid storing data in memory\n",
    "This is like a streaming method."
   ]
  },
  {
   "cell_type": "code",
   "execution_count": 74,
   "id": "382e9b32-8cbe-4402-bf84-01cedd2d86ae",
   "metadata": {},
   "outputs": [],
   "source": [
    "@profile\n",
    "def insert_executemany_iterator(connection, beers: Iterator[Dict[str, Any]]) -> None:\n",
    "    with connection.cursor() as cursor:\n",
    "        # create_staging_table(cursor) -- using existing table\n",
    "        cursor.executemany(\"\"\"\n",
    "            INSERT INTO staging_beers VALUES (\n",
    "                %(id)s,\n",
    "                %(name)s,\n",
    "                %(tagline)s,\n",
    "                %(first_brewed)s,\n",
    "                %(description)s,\n",
    "                %(image_url)s,\n",
    "                %(abv)s,\n",
    "                %(ibu)s,\n",
    "                %(target_fg)s,\n",
    "                %(target_og)s,\n",
    "                %(ebc)s,\n",
    "                %(srm)s,\n",
    "                %(ph)s,\n",
    "                %(attenuation_level)s,\n",
    "                %(brewers_tips)s,\n",
    "                %(contributed_by)s,\n",
    "                %(volume)s\n",
    "            );\n",
    "        \"\"\", ({\n",
    "            **beer,\n",
    "            'first_brewed': parse_first_brewed(beer['first_brewed']),\n",
    "            'volume': beer['volume']['value'],\n",
    "        } for beer in beers))"
   ]
  },
  {
   "cell_type": "code",
   "execution_count": 72,
   "id": "a968e197-b747-4457-b413-326c9c5c3d39",
   "metadata": {},
   "outputs": [
    {
     "name": "stdout",
     "output_type": "stream",
     "text": [
      "\n",
      "insert_executemany_iterator()\n",
      "Time   5.273\n",
      "Memory 0.0\n"
     ]
    }
   ],
   "source": [
    "insert_executemany_iterator(connection, beers_object)"
   ]
  },
  {
   "cell_type": "markdown",
   "id": "82194fe8-8dd0-46b7-a30d-c0d3cdd768b9",
   "metadata": {},
   "source": [
    "Time is lower than inserting row by row, memory usage is zero. "
   ]
  },
  {
   "cell_type": "markdown",
   "id": "14628905-0bfb-41f2-841a-f03223b2d20a",
   "metadata": {},
   "source": [
    "# Execute Batch From Iterator"
   ]
  },
  {
   "cell_type": "markdown",
   "id": "4fe47a35-0152-4eaa-986c-df0dafb88ea8",
   "metadata": {},
   "source": [
    "Execute groups of statements in fewer server roundtrips."
   ]
  },
  {
   "cell_type": "code",
   "execution_count": 75,
   "id": "efc4f075-4ab8-4ce8-86ce-aaddb3d20c14",
   "metadata": {},
   "outputs": [],
   "source": [
    "@profile\n",
    "def insert_execute_batch_iterator(connection, beers: Iterator[Dict[str, Any]]) -> None:\n",
    "    with connection.cursor() as cursor:\n",
    "        # create_staging_table(cursor) -- using existing table\n",
    "\n",
    "        iter_beers = ({\n",
    "            **beer,\n",
    "            'first_brewed': parse_first_brewed(beer['first_brewed']),\n",
    "            'volume': beer['volume']['value'],\n",
    "        } for beer in beers)\n",
    "\n",
    "        psycopg2.extras.execute_batch(cursor, \"\"\"\n",
    "            INSERT INTO staging_beers VALUES (\n",
    "                %(id)s,\n",
    "                %(name)s,\n",
    "                %(tagline)s,\n",
    "                %(first_brewed)s,\n",
    "                %(description)s,\n",
    "                %(image_url)s,\n",
    "                %(abv)s,\n",
    "                %(ibu)s,\n",
    "                %(target_fg)s,\n",
    "                %(target_og)s,\n",
    "                %(ebc)s,\n",
    "                %(srm)s,\n",
    "                %(ph)s,\n",
    "                %(attenuation_level)s,\n",
    "                %(brewers_tips)s,\n",
    "                %(contributed_by)s,\n",
    "                %(volume)s\n",
    "            );\n",
    "        \"\"\", iter_beers)"
   ]
  },
  {
   "cell_type": "code",
   "execution_count": 76,
   "id": "ee2f1cb4-8692-4668-a2cf-511d6da7a458",
   "metadata": {},
   "outputs": [
    {
     "name": "stdout",
     "output_type": "stream",
     "text": [
      "\n",
      "insert_execute_batch_iterator()\n",
      "Time   2.173\n",
      "Memory 0.00390625\n"
     ]
    }
   ],
   "source": [
    "insert_execute_batch_iterator(connection, beers_object)"
   ]
  },
  {
   "cell_type": "markdown",
   "id": "732da90f-0029-4d5d-93ad-08c2ba35070e",
   "metadata": {},
   "source": [
    "Time is down to about 40% of the execute_many using iterator method"
   ]
  },
  {
   "cell_type": "markdown",
   "id": "f6c62abd-7095-4311-a579-82197bfe5198",
   "metadata": {},
   "source": [
    "# Execute Batch From Iterator with Page Size"
   ]
  },
  {
   "cell_type": "markdown",
   "id": "a49cd517-e3aa-47a0-b40f-16bfafd133a3",
   "metadata": {},
   "source": [
    "psycopg2.extras.execute_batch(cur, sql, argslist, page_size=100)¶\n",
    "Psycopg will join the statements into fewer multi-statement commands, each one containing at most page_size statements, resulting in a reduced number of server roundtrips."
   ]
  },
  {
   "cell_type": "code",
   "execution_count": 78,
   "id": "300d086d-e95a-4b64-b76b-185d17c09cdf",
   "metadata": {},
   "outputs": [],
   "source": [
    "@profile\n",
    "def insert_execute_batch_iterator(\n",
    "    connection,\n",
    "    beers: Iterator[Dict[str, Any]],\n",
    "    page_size: int = 100,\n",
    ") -> None:\n",
    "    with connection.cursor() as cursor:\n",
    "        # create_staging_table(cursor) -- using existing table\n",
    "        iter_beers = ({\n",
    "            **beer,\n",
    "            'first_brewed': parse_first_brewed(beer['first_brewed']),\n",
    "            'volume': beer['volume']['value'],\n",
    "        } for beer in beers)\n",
    "\n",
    "        psycopg2.extras.execute_batch(cursor, \"\"\"\n",
    "            INSERT INTO staging_beers VALUES (\n",
    "                %(id)s,\n",
    "                %(name)s,\n",
    "                %(tagline)s,\n",
    "                %(first_brewed)s,\n",
    "                %(description)s,\n",
    "                %(image_url)s,\n",
    "                %(abv)s,\n",
    "                %(ibu)s,\n",
    "                %(target_fg)s,\n",
    "                %(target_og)s,\n",
    "                %(ebc)s,\n",
    "                %(srm)s,\n",
    "                %(ph)s,\n",
    "                %(attenuation_level)s,\n",
    "                %(brewers_tips)s,\n",
    "                %(contributed_by)s,\n",
    "                %(volume)s\n",
    "            );\n",
    "        \"\"\", iter_beers, page_size=page_size)"
   ]
  },
  {
   "cell_type": "code",
   "execution_count": 80,
   "id": "4d342086-b862-4b6c-b4b5-d7727205fde4",
   "metadata": {},
   "outputs": [
    {
     "name": "stdout",
     "output_type": "stream",
     "text": [
      "\n",
      "insert_execute_batch_iterator(page_size=1)\n",
      "Time   6.033\n",
      "Memory 0.00390625\n"
     ]
    }
   ],
   "source": [
    "insert_execute_batch_iterator(connection, iter(beers_object), page_size=1)"
   ]
  },
  {
   "cell_type": "code",
   "execution_count": 81,
   "id": "040e6186-903a-4e7a-a46b-6089a2b548f7",
   "metadata": {},
   "outputs": [
    {
     "name": "stdout",
     "output_type": "stream",
     "text": [
      "\n",
      "insert_execute_batch_iterator(page_size=100)\n",
      "Time   2.259\n",
      "Memory 0.00390625\n"
     ]
    }
   ],
   "source": [
    "insert_execute_batch_iterator(connection, iter(beers_object), page_size=100)"
   ]
  },
  {
   "cell_type": "code",
   "execution_count": 82,
   "id": "0b00b985-338f-472f-b349-3057e7aa6cd0",
   "metadata": {},
   "outputs": [
    {
     "name": "stdout",
     "output_type": "stream",
     "text": [
      "\n",
      "insert_execute_batch_iterator(page_size=1000)\n",
      "Time   2.239\n",
      "Memory 0.00390625\n"
     ]
    }
   ],
   "source": [
    "insert_execute_batch_iterator(connection, iter(beers_object), page_size=1000)"
   ]
  },
  {
   "cell_type": "markdown",
   "id": "13447b74-3372-4820-8a49-795d5f1ff459",
   "metadata": {},
   "source": [
    "# according to PostgreSQL documentation, the best way to load data into a database is using the copy command"
   ]
  },
  {
   "cell_type": "code",
   "execution_count": 42,
   "id": "3ec36138-1c95-425f-9c0b-03cdde7ffedc",
   "metadata": {},
   "outputs": [],
   "source": [
    "import io\n",
    "import psycopg2.extras\n",
    "\n",
    "# transforms a single value\n",
    "# empty values are transformed to \\N\n",
    "# escape new lines \\n -> \\\\n\n",
    "def clean_csv_value(value: Optional[Any]) -> str:\n",
    "    if value is None:\n",
    "        return r'\\N'\n",
    "    return str(value).replace('\\n', '\\\\n')\n",
    "\n",
    "@profile\n",
    "# load data using copy command (copy_from function takes a CSV file)\n",
    "# transform data into CSV first, then load\n",
    "def copy_stringio(connection, beers: Iterator[Dict[str, Any]]) -> None:\n",
    "    with connection.cursor() as cursor:\n",
    "        #create_staging_table(cursor) -- use existing table\n",
    "        # generate a file like object\n",
    "        csv_file_like_object = io.StringIO()\n",
    "        for beer in beers:\n",
    "            # tansforms a beer to a CSV row\n",
    "            csv_file_like_object.write('|'.join(map(clean_csv_value, (\n",
    "                beer['id'],\n",
    "                beer['name'],\n",
    "                beer['tagline'],\n",
    "                parse_first_brewed(beer['first_brewed']),\n",
    "                beer['description'],\n",
    "                beer['image_url'],\n",
    "                beer['abv'],\n",
    "                beer['ibu'],\n",
    "                beer['target_fg'],\n",
    "                beer['target_og'],\n",
    "                beer['ebc'],\n",
    "                beer['srm'],\n",
    "                beer['ph'],\n",
    "                beer['attenuation_level'],\n",
    "                beer['contributed_by'],\n",
    "                beer['brewers_tips'],\n",
    "                beer['volume']['value'],\n",
    "            ))) + '\\n')\n",
    "        # makes cursor at index 0\n",
    "        csv_file_like_object.seek(0) \n",
    "        cursor.copy_from(csv_file_like_object, 'staging_beers', sep='|')"
   ]
  },
  {
   "cell_type": "code",
   "execution_count": 45,
   "id": "f84b42b4-40b2-4ace-b577-d79fbe7a063c",
   "metadata": {},
   "outputs": [
    {
     "name": "stdout",
     "output_type": "stream",
     "text": [
      "\n",
      "copy_stringio()\n",
      "Time   0.6465\n",
      "Memory 100.83203125\n"
     ]
    }
   ],
   "source": [
    "copy_stringio(connection, beers_object)\n",
    "test(connection, len(beers_object))"
   ]
  },
  {
   "cell_type": "markdown",
   "id": "38cf1041-0eea-43ca-bb9a-94244ddfec5e",
   "metadata": {},
   "source": [
    "The process finished quickly, but it consumes 100MB memory. The file beers.json is about 65MB. This method is not memory efficient.\n",
    "It's because the entire file is created in memory. "
   ]
  },
  {
   "cell_type": "markdown",
   "id": "ced0d602-f8e3-4ac8-b97d-ce7292549e57",
   "metadata": {},
   "source": [
    "# creating a file-like object acting as a buffer between the source and the copy command. The buffer will consume JSON via the iterator, clean and transform the data, and output clean CSV."
   ]
  },
  {
   "cell_type": "code",
   "execution_count": 50,
   "id": "9ffa3728-ba09-4778-a469-ba7377691bae",
   "metadata": {},
   "outputs": [],
   "source": [
    "# creating an object the feeds off an iterator, and provides a file-like interface\n",
    "from typing import Iterator, Optional\n",
    "import io\n",
    "\n",
    "class StringIteratorIO(io.TextIOBase):\n",
    "    def __init__(self, iter: Iterator[str]):\n",
    "        self._iter = iter\n",
    "        self._buff = ''\n",
    "\n",
    "    def readable(self) -> bool:\n",
    "        return True\n",
    "\n",
    "    def _read1(self, n: Optional[int] = None) -> str:\n",
    "        while not self._buff:\n",
    "            try:\n",
    "                self._buff = next(self._iter)\n",
    "            except StopIteration:\n",
    "                break\n",
    "        ret = self._buff[:n]\n",
    "        self._buff = self._buff[len(ret):]\n",
    "        return ret\n",
    "\n",
    "    def read(self, n: Optional[int] = None) -> str:\n",
    "        line = []\n",
    "        if n is None or n < 0:\n",
    "            while True:\n",
    "                m = self._read1()\n",
    "                if not m:\n",
    "                    break\n",
    "                line.append(m)\n",
    "        else:\n",
    "            while n > 0:\n",
    "                m = self._read1(n)\n",
    "                if not m:\n",
    "                    break\n",
    "                n -= len(m)\n",
    "                line.append(m)\n",
    "        return ''.join(line)"
   ]
  },
  {
   "cell_type": "markdown",
   "id": "77f5815d-ccc1-4bad-a8a9-d8bc9c36f36f",
   "metadata": {},
   "source": [
    "-- example, how to use this file-like object\n",
    "gen = (f'{i},{i**2}\\n' for i in range(3))\n",
    "gen\n",
    "f = StringIteratorIO(gen)\n",
    "print(f.read())"
   ]
  },
  {
   "cell_type": "code",
   "execution_count": 52,
   "id": "6f2f20e4-3d47-490a-8110-9292d78636e4",
   "metadata": {},
   "outputs": [],
   "source": [
    "@profile\n",
    "def copy_string_iterator(connection, beers: Iterator[Dict[str, Any]]) -> None:\n",
    "    with connection.cursor() as cursor:\n",
    "        # create_staging_table(cursor) -- using existing table\n",
    "        beers_string_iterator = StringIteratorIO((\n",
    "            '|'.join(map(clean_csv_value, (\n",
    "                beer['id'],\n",
    "                beer['name'],\n",
    "                beer['tagline'],\n",
    "                parse_first_brewed(beer['first_brewed']).isoformat(),\n",
    "                beer['description'],\n",
    "                beer['image_url'],\n",
    "                beer['abv'],\n",
    "                beer['ibu'],\n",
    "                beer['target_fg'],\n",
    "                beer['target_og'],\n",
    "                beer['ebc'],\n",
    "                beer['srm'],\n",
    "                beer['ph'],\n",
    "                beer['attenuation_level'],\n",
    "                beer['brewers_tips'],\n",
    "                beer['contributed_by'],\n",
    "                beer['volume']['value'],\n",
    "            ))) + '\\n'\n",
    "            for beer in beers\n",
    "        ))\n",
    "        cursor.copy_from(beers_string_iterator, 'staging_beers', sep='|')"
   ]
  },
  {
   "cell_type": "code",
   "execution_count": 53,
   "id": "cd181058-7df6-4332-bb01-5e0c1b321e04",
   "metadata": {},
   "outputs": [
    {
     "name": "stdout",
     "output_type": "stream",
     "text": [
      "\n",
      "copy_string_iterator()\n",
      "Time   0.4782\n",
      "Memory 0.015625\n"
     ]
    }
   ],
   "source": [
    "copy_string_iterator(connection, beers_object)"
   ]
  },
  {
   "cell_type": "markdown",
   "id": "cd9c123d-3a7a-4a56-8697-f4f774c28f6b",
   "metadata": {},
   "source": [
    "The memory usage is very low!!!"
   ]
  },
  {
   "cell_type": "markdown",
   "id": "1821426c-6151-48b9-9dbf-fa349b813399",
   "metadata": {},
   "source": [
    "# Copy Data From a String Iterator with Buffer Size"
   ]
  },
  {
   "cell_type": "markdown",
   "id": "09fb2ad5-f80a-4551-9215-c143c0324253",
   "metadata": {},
   "source": [
    "copy_from(file, table, sep='\\\\t', null='\\\\\\\\N', size=8192, columns=None)¶"
   ]
  },
  {
   "cell_type": "code",
   "execution_count": 56,
   "id": "6d705558-5c98-42b5-bf67-4eaf4d6f07e6",
   "metadata": {},
   "outputs": [],
   "source": [
    "@profile\n",
    "def copy_string_iterator(connection, beers: Iterator[Dict[str, Any]], size: int = 8192) -> None:\n",
    "    with connection.cursor() as cursor:\n",
    "        # create_staging_table(cursor) -- using existing table\n",
    "        beers_string_iterator = StringIteratorIO((\n",
    "            '|'.join(map(clean_csv_value, (\n",
    "                beer['id'],\n",
    "                beer['name'],\n",
    "                beer['tagline'],\n",
    "                parse_first_brewed(beer['first_brewed']).isoformat(),\n",
    "                beer['description'],\n",
    "                beer['image_url'],\n",
    "                beer['abv'],\n",
    "                beer['ibu'],\n",
    "                beer['target_fg'],\n",
    "                beer['target_og'],\n",
    "                beer['ebc'],\n",
    "                beer['srm'],\n",
    "                beer['ph'],\n",
    "                beer['attenuation_level'],\n",
    "                beer['brewers_tips'],\n",
    "                beer['contributed_by'],\n",
    "                beer['volume']['value'],\n",
    "            ))) + '\\n'\n",
    "            for beer in beers\n",
    "        ))\n",
    "        cursor.copy_from(beers_string_iterator, 'staging_beers', sep='|', size=size)"
   ]
  },
  {
   "cell_type": "code",
   "execution_count": 66,
   "id": "b37f4df8-4b61-419d-9997-e07798b9e16f",
   "metadata": {},
   "outputs": [
    {
     "name": "stdout",
     "output_type": "stream",
     "text": [
      "\n",
      "copy_string_iterator(size=1024)\n",
      "Time   0.454\n",
      "Memory 0.0\n"
     ]
    }
   ],
   "source": [
    "copy_string_iterator(connection, iter(beers_object), size=2**10)"
   ]
  },
  {
   "cell_type": "code",
   "execution_count": 67,
   "id": "30ac4a50-29ce-4d6d-8a43-e56e862f3393",
   "metadata": {},
   "outputs": [
    {
     "name": "stdout",
     "output_type": "stream",
     "text": [
      "\n",
      "copy_string_iterator(size=8192)\n",
      "Time   0.4623\n",
      "Memory 0.0\n"
     ]
    }
   ],
   "source": [
    "copy_string_iterator(connection, iter(beers_object), size=2**13)"
   ]
  },
  {
   "cell_type": "code",
   "execution_count": 68,
   "id": "a67c4788-a436-49eb-8551-4981e226033a",
   "metadata": {},
   "outputs": [
    {
     "name": "stdout",
     "output_type": "stream",
     "text": [
      "\n",
      "copy_string_iterator(size=32768)\n",
      "Time   0.3874\n",
      "Memory 0.0\n"
     ]
    }
   ],
   "source": [
    "copy_string_iterator(connection, iter(beers_object), size=2**15)"
   ]
  },
  {
   "cell_type": "code",
   "execution_count": 69,
   "id": "716eb233-2c8d-4deb-bad3-033310dcd5ec",
   "metadata": {},
   "outputs": [
    {
     "name": "stdout",
     "output_type": "stream",
     "text": [
      "\n",
      "copy_string_iterator(size=65536)\n",
      "Time   0.5357\n",
      "Memory 0.0\n"
     ]
    }
   ],
   "source": [
    "copy_string_iterator(connection, iter(beers_object), size=2**16)"
   ]
  },
  {
   "cell_type": "code",
   "execution_count": null,
   "id": "d439748c-de2d-45c6-97b7-f1be7fa1152e",
   "metadata": {},
   "outputs": [],
   "source": [
    "The memory usage is always 0, but time varies a little when buffer size changes. Seems 2^15 is a good size. "
   ]
  }
 ],
 "metadata": {
  "kernelspec": {
   "display_name": "Python 3 (ipykernel)",
   "language": "python",
   "name": "python3"
  },
  "language_info": {
   "codemirror_mode": {
    "name": "ipython",
    "version": 3
   },
   "file_extension": ".py",
   "mimetype": "text/x-python",
   "name": "python",
   "nbconvert_exporter": "python",
   "pygments_lexer": "ipython3",
   "version": "3.9.13"
  }
 },
 "nbformat": 4,
 "nbformat_minor": 5
}
